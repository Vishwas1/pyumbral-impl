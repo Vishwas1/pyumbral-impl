{
 "cells": [
  {
   "cell_type": "markdown",
   "metadata": {},
   "source": [
    "## Setting elliptic curve parameter"
   ]
  },
  {
   "cell_type": "code",
   "execution_count": 2,
   "metadata": {},
   "outputs": [
    {
     "ename": "UmbralConfigurationError",
     "evalue": "You can only set the default curve once.  Do it once and then leave it alone.",
     "output_type": "error",
     "traceback": [
      "\u001b[0;31m---------------------------------------------------------------------------\u001b[0m",
      "\u001b[0;31mUmbralConfigurationError\u001b[0m                  Traceback (most recent call last)",
      "\u001b[0;32m<ipython-input-2-eb03335cf14b>\u001b[0m in \u001b[0;36m<module>\u001b[0;34m\u001b[0m\n\u001b[1;32m      1\u001b[0m \u001b[0;32mfrom\u001b[0m \u001b[0mumbral\u001b[0m \u001b[0;32mimport\u001b[0m \u001b[0mconfig\u001b[0m\u001b[0;34m\u001b[0m\u001b[0;34m\u001b[0m\u001b[0m\n\u001b[1;32m      2\u001b[0m \u001b[0;32mfrom\u001b[0m \u001b[0mumbral\u001b[0m\u001b[0;34m.\u001b[0m\u001b[0mcurve\u001b[0m \u001b[0;32mimport\u001b[0m \u001b[0mSECP256K1\u001b[0m\u001b[0;34m\u001b[0m\u001b[0;34m\u001b[0m\u001b[0m\n\u001b[0;32m----> 3\u001b[0;31m \u001b[0mconfig\u001b[0m\u001b[0;34m.\u001b[0m\u001b[0mset_default_curve\u001b[0m\u001b[0;34m(\u001b[0m\u001b[0mSECP256K1\u001b[0m\u001b[0;34m)\u001b[0m\u001b[0;34m\u001b[0m\u001b[0;34m\u001b[0m\u001b[0m\n\u001b[0m",
      "\u001b[0;32m~/work/proj/zagg/pyth-work/nucypher/lib/python3.6/site-packages/umbral/config.py\u001b[0m in \u001b[0;36mset_default_curve\u001b[0;34m(curve)\u001b[0m\n\u001b[1;32m     69\u001b[0m \u001b[0;34m\u001b[0m\u001b[0m\n\u001b[1;32m     70\u001b[0m \u001b[0;32mdef\u001b[0m \u001b[0mset_default_curve\u001b[0m\u001b[0;34m(\u001b[0m\u001b[0mcurve\u001b[0m\u001b[0;34m:\u001b[0m \u001b[0mOptional\u001b[0m\u001b[0;34m[\u001b[0m\u001b[0mCurve\u001b[0m\u001b[0;34m]\u001b[0m \u001b[0;34m=\u001b[0m \u001b[0;32mNone\u001b[0m\u001b[0;34m)\u001b[0m \u001b[0;34m->\u001b[0m \u001b[0;32mNone\u001b[0m\u001b[0;34m:\u001b[0m\u001b[0;34m\u001b[0m\u001b[0;34m\u001b[0m\u001b[0m\n\u001b[0;32m---> 71\u001b[0;31m     \u001b[0;32mreturn\u001b[0m \u001b[0m_CONFIG\u001b[0m\u001b[0;34m.\u001b[0m\u001b[0mset_curve\u001b[0m\u001b[0;34m(\u001b[0m\u001b[0mcurve\u001b[0m\u001b[0;34m)\u001b[0m\u001b[0;34m\u001b[0m\u001b[0;34m\u001b[0m\u001b[0m\n\u001b[0m\u001b[1;32m     72\u001b[0m \u001b[0;34m\u001b[0m\u001b[0m\n\u001b[1;32m     73\u001b[0m \u001b[0;34m\u001b[0m\u001b[0m\n",
      "\u001b[0;32m~/work/proj/zagg/pyth-work/nucypher/lib/python3.6/site-packages/umbral/config.py\u001b[0m in \u001b[0;36mset_curve\u001b[0;34m(cls, curve)\u001b[0m\n\u001b[1;32m     59\u001b[0m         \u001b[0;32mif\u001b[0m \u001b[0mcls\u001b[0m\u001b[0;34m.\u001b[0m\u001b[0m__curve\u001b[0m\u001b[0;34m:\u001b[0m\u001b[0;34m\u001b[0m\u001b[0;34m\u001b[0m\u001b[0m\n\u001b[1;32m     60\u001b[0m             raise cls.UmbralConfigurationError(\n\u001b[0;32m---> 61\u001b[0;31m                 \"You can only set the default curve once.  Do it once and then leave it alone.\")\n\u001b[0m\u001b[1;32m     62\u001b[0m         \u001b[0;32melse\u001b[0m\u001b[0;34m:\u001b[0m\u001b[0;34m\u001b[0m\u001b[0;34m\u001b[0m\u001b[0m\n\u001b[1;32m     63\u001b[0m             \u001b[0;32mfrom\u001b[0m \u001b[0mumbral\u001b[0m\u001b[0;34m.\u001b[0m\u001b[0mparams\u001b[0m \u001b[0;32mimport\u001b[0m \u001b[0mUmbralParameters\u001b[0m\u001b[0;34m\u001b[0m\u001b[0;34m\u001b[0m\u001b[0m\n",
      "\u001b[0;31mUmbralConfigurationError\u001b[0m: You can only set the default curve once.  Do it once and then leave it alone."
     ]
    }
   ],
   "source": [
    "from umbral import config\n",
    "from umbral.curve import SECP256K1\n",
    "config.set_default_curve(SECP256K1)"
   ]
  },
  {
   "cell_type": "markdown",
   "metadata": {},
   "source": [
    "## Generating Key-Pair for Alice"
   ]
  },
  {
   "cell_type": "code",
   "execution_count": 3,
   "metadata": {},
   "outputs": [],
   "source": [
    "from umbral import keys, signing\n",
    "alices_private_key = keys.UmbralPrivateKey.gen_key()\n",
    "alices_public_key = alices_private_key.get_pubkey()\n",
    "\n",
    "# alices_signing_key = keys.UmbralPrivateKey.gen_key()\n",
    "# alices_verifying_key = alices_signing_key.get_pubkey()\n",
    "alices_signer = signing.Signer(private_key=alices_private_key)"
   ]
  },
  {
   "cell_type": "markdown",
   "metadata": {},
   "source": [
    "## Encrypting with a Alice's public key"
   ]
  },
  {
   "cell_type": "code",
   "execution_count": 4,
   "metadata": {},
   "outputs": [
    {
     "name": "stdout",
     "output_type": "stream",
     "text": [
      "b'\\xc5(t\\x9d\\xafH\\x06\\xa7\\xfc\\xa3\\x1f\\xd1\\x8b\\xeb:V\\xb3\\xf4\\xa1\\x15\\\\\\xf2\\xb9\"\\x13\\x9b\\x90\\x86\\x0b\\t\\xa8\\xbeI\\x1b\\x04\\x1c\\xe6>\\xd1\\xda\\x84\\xff\\xc0QGk\\xe6jO\\x00>\\x94s\\xa9\\xc9e'\n",
      "Capsule:b51927d66c49306\n"
     ]
    }
   ],
   "source": [
    "from umbral import pre\n",
    "plaintext = b'Proxy Re-encryption is cool!'\n",
    "ciphertext, capsule = pre.encrypt(alices_public_key, plaintext)\n",
    "print(ciphertext)\n",
    "print(capsule)\n",
    "\n",
    "# capsule and ciphertext are stored in IPFS"
   ]
  },
  {
   "cell_type": "markdown",
   "metadata": {},
   "source": [
    "## Generating Key-Pair for Bob"
   ]
  },
  {
   "cell_type": "code",
   "execution_count": 5,
   "metadata": {},
   "outputs": [],
   "source": [
    "bobs_private_key = keys.UmbralPrivateKey.gen_key()\n",
    "bobs_public_key = bobs_private_key.get_pubkey()\n",
    "\n",
    "# Now Bob wants access of that text from Alice"
   ]
  },
  {
   "cell_type": "markdown",
   "metadata": {},
   "source": [
    "## Generating 20 Key Frags by Alice\n",
    "\n",
    "When Alice wants to grant Bob access to open her encrypted messages, she creates threshold split re-encryption keys, or “kfrags”, which are next sent to N proxies or Ursulas."
   ]
  },
  {
   "cell_type": "code",
   "execution_count": 6,
   "metadata": {},
   "outputs": [
    {
     "data": {
      "text/plain": [
       "[KFrag:ce4a8f58e6d307d,\n",
       " KFrag:bbbe69f7a7f6203,\n",
       " KFrag:7f8babedb739fdb,\n",
       " KFrag:0e83fc9d3f510e9,\n",
       " KFrag:706a8e48f52173a,\n",
       " KFrag:cbfa019c54c8cc9,\n",
       " KFrag:b4a1fe5183b28d3,\n",
       " KFrag:0b1198fcd428cfd,\n",
       " KFrag:5bf43abadcec78f,\n",
       " KFrag:d0e56cd84755fde,\n",
       " KFrag:df59024a0f45df9,\n",
       " KFrag:7f2e34d7803844c,\n",
       " KFrag:089d23b6bf7c76b,\n",
       " KFrag:d76af7a9bc6d20a,\n",
       " KFrag:302ad44f6a72dc4,\n",
       " KFrag:8e7393b9cb23e99,\n",
       " KFrag:e5a488c28070fb3,\n",
       " KFrag:ab95434bf097b61,\n",
       " KFrag:43ae0d871479507,\n",
       " KFrag:f50c7d0bcc597c9]"
      ]
     },
     "execution_count": 6,
     "metadata": {},
     "output_type": "execute_result"
    }
   ],
   "source": [
    "kfrags = pre.generate_kfrags(delegating_privkey=alices_private_key,\n",
    "                              signer=alices_signer,\n",
    "                              receiving_pubkey=bobs_public_key,\n",
    "                              threshold=10,\n",
    "                              N=20)\n",
    "kfrags"
   ]
  },
  {
   "cell_type": "markdown",
   "metadata": {},
   "source": [
    "## Ursulas perform re-encryption\n",
    "\n",
    "- Bob asks several Ursulas to re-encrypt the capsule so he can open it - He sents the capsule to Ursulas\n",
    "- Each Ursula performs re-encryption on the capsule using the kfrag provided by Alice, obtaining this way a “capsule fragment”, or cfrag.\n",
    "-  Let’s mock a network or transport layer by sampling threshold random kfrags, one for each required Ursula..\n"
   ]
  },
  {
   "cell_type": "code",
   "execution_count": 7,
   "metadata": {},
   "outputs": [
    {
     "data": {
      "text/plain": [
       "[CFrag:921377d2f8b40f9,\n",
       " CFrag:ef5661558e9c1b7,\n",
       " CFrag:7c490404bbe2c68,\n",
       " CFrag:24dedce0d6b56d7,\n",
       " CFrag:bf5ff6539edff66,\n",
       " CFrag:8e4be01a0ae0aa8,\n",
       " CFrag:5f238e3a3fb62cd,\n",
       " CFrag:5b63b5ea9b60264,\n",
       " CFrag:362f3d43e734b80,\n",
       " CFrag:47a0d4eacd8e3c0]"
      ]
     },
     "execution_count": 7,
     "metadata": {},
     "output_type": "execute_result"
    }
   ],
   "source": [
    "import random\n",
    "kfrags = random.sample(kfrags,  # All kfrags from above (sent by Alice)\n",
    "                       10)      # M - Threshold\n",
    "\n",
    "capsule.set_correctness_keys(delegating=alices_public_key,\n",
    "                             receiving=bobs_public_key,\n",
    "                             verifying=alices_public_key)\n",
    "\n",
    "cfrags = list()\n",
    "for kfrag in kfrags:\n",
    "    cfrag = pre.reencrypt(kfrag=kfrag, capsule=capsule)\n",
    "    cfrags.append(cfrag)\n",
    "cfrags"
   ]
  },
  {
   "cell_type": "markdown",
   "metadata": {},
   "source": [
    "## Bob activates and opens the capsule\n",
    "\n",
    "- Bob collects the resulting cfrags from several Ursulas. Bob must gather at least threshold cfrags in order to activate the capsule.\n",
    "- Bob attaches at least threshold cfrags to the capsule, which has to be prepared in advance with the necessary correctness keys."
   ]
  },
  {
   "cell_type": "code",
   "execution_count": 8,
   "metadata": {
    "scrolled": true
   },
   "outputs": [
    {
     "data": {
      "text/plain": [
       "b'Proxy Re-encryption is cool!'"
      ]
     },
     "execution_count": 8,
     "metadata": {},
     "output_type": "execute_result"
    }
   ],
   "source": [
    "capsule.set_correctness_keys(delegating=alices_public_key,\n",
    "                             receiving=bobs_public_key,\n",
    "                             verifying=alices_public_key)\n",
    "\n",
    "for cfrag in cfrags:\n",
    "    capsule.attach_cfrag(cfrag)\n",
    "\n",
    "cleartext = pre.decrypt(ciphertext=ciphertext, capsule=capsule, decrypting_key=bobs_private_key)\n",
    "cleartext"
   ]
  },
  {
   "cell_type": "code",
   "execution_count": null,
   "metadata": {},
   "outputs": [],
   "source": []
  },
  {
   "cell_type": "code",
   "execution_count": null,
   "metadata": {},
   "outputs": [],
   "source": []
  }
 ],
 "metadata": {
  "kernelspec": {
   "display_name": "Python 3",
   "language": "python",
   "name": "python3"
  },
  "language_info": {
   "codemirror_mode": {
    "name": "ipython",
    "version": 3
   },
   "file_extension": ".py",
   "mimetype": "text/x-python",
   "name": "python",
   "nbconvert_exporter": "python",
   "pygments_lexer": "ipython3",
   "version": "3.6.8"
  }
 },
 "nbformat": 4,
 "nbformat_minor": 2
}
